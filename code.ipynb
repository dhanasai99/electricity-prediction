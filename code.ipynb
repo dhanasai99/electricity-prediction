{
 "cells": [
  {
   "cell_type": "code",
   "execution_count": 1,
   "metadata": {},
   "outputs": [],
   "source": [
    "\"\"\"Import the libraries\"\"\"\n",
    "import numpy as np\n",
    "import pandas as pd\n",
    "import matplotlib.pyplot as plt\n",
    "import seaborn as sns\n",
    "from math import sqrt"
   ]
  },
  {
   "cell_type": "code",
   "execution_count": 2,
   "metadata": {},
   "outputs": [],
   "source": [
    "import pandas as pd\n",
    "pd.set_option('display.max_rows', 500)\n",
    "pd.set_option('display.max_columns', 500)\n",
    "pd.set_option('display.width', 1000)"
   ]
  },
  {
   "cell_type": "code",
   "execution_count": 3,
   "metadata": {},
   "outputs": [],
   "source": [
    "\n",
    "from sklearn.linear_model import RidgeCV\n",
    "from sklearn.svm import LinearSVR\n",
    "from sklearn.ensemble import StackingRegressor\n",
    "from warnings import simplefilter\n",
    "from sklearn.exceptions import ConvergenceWarning\n",
    "simplefilter(\"ignore\", category=ConvergenceWarning)"
   ]
  },
  {
   "cell_type": "code",
   "execution_count": 4,
   "metadata": {},
   "outputs": [],
   "source": [
    "from sklearn.svm import SVR \n",
    "from sklearn.metrics import mean_absolute_error,mean_squared_error\n",
    "\n",
    "from sklearn.linear_model import LinearRegression"
   ]
  },
  {
   "cell_type": "code",
   "execution_count": 5,
   "metadata": {},
   "outputs": [],
   "source": [
    "##import Dataset\n",
    "df = pd.read_csv(\"household.csv\")\n",
    "df1 =df.head(10000)\n",
    "df1=df1.drop('datetime',axis=1)"
   ]
  },
  {
   "cell_type": "code",
   "execution_count": 6,
   "metadata": {},
   "outputs": [
    {
     "data": {
      "text/html": [
       "<div>\n",
       "<style scoped>\n",
       "    .dataframe tbody tr th:only-of-type {\n",
       "        vertical-align: middle;\n",
       "    }\n",
       "\n",
       "    .dataframe tbody tr th {\n",
       "        vertical-align: top;\n",
       "    }\n",
       "\n",
       "    .dataframe thead th {\n",
       "        text-align: right;\n",
       "    }\n",
       "</style>\n",
       "<table border=\"1\" class=\"dataframe\">\n",
       "  <thead>\n",
       "    <tr style=\"text-align: right;\">\n",
       "      <th></th>\n",
       "      <th>datetime</th>\n",
       "      <th>Global_active_power</th>\n",
       "      <th>Global_reactive_power</th>\n",
       "      <th>Voltage</th>\n",
       "      <th>Global_intensity</th>\n",
       "      <th>Sub_metering_1</th>\n",
       "      <th>Sub_metering_2</th>\n",
       "      <th>Sub_metering_3</th>\n",
       "      <th>Sub_metering_4</th>\n",
       "    </tr>\n",
       "  </thead>\n",
       "  <tbody>\n",
       "    <tr>\n",
       "      <th>0</th>\n",
       "      <td>16-12-2006 17:24</td>\n",
       "      <td>4.216</td>\n",
       "      <td>0.418</td>\n",
       "      <td>234.84</td>\n",
       "      <td>18.4</td>\n",
       "      <td>0</td>\n",
       "      <td>1</td>\n",
       "      <td>17</td>\n",
       "      <td>52.266670</td>\n",
       "    </tr>\n",
       "    <tr>\n",
       "      <th>1</th>\n",
       "      <td>16-12-2006 17:25</td>\n",
       "      <td>5.360</td>\n",
       "      <td>0.436</td>\n",
       "      <td>233.63</td>\n",
       "      <td>23.0</td>\n",
       "      <td>0</td>\n",
       "      <td>1</td>\n",
       "      <td>16</td>\n",
       "      <td>72.333336</td>\n",
       "    </tr>\n",
       "    <tr>\n",
       "      <th>2</th>\n",
       "      <td>16-12-2006 17:26</td>\n",
       "      <td>5.374</td>\n",
       "      <td>0.498</td>\n",
       "      <td>233.29</td>\n",
       "      <td>23.0</td>\n",
       "      <td>0</td>\n",
       "      <td>2</td>\n",
       "      <td>17</td>\n",
       "      <td>70.566666</td>\n",
       "    </tr>\n",
       "    <tr>\n",
       "      <th>3</th>\n",
       "      <td>16-12-2006 17:27</td>\n",
       "      <td>5.388</td>\n",
       "      <td>0.502</td>\n",
       "      <td>233.74</td>\n",
       "      <td>23.0</td>\n",
       "      <td>0</td>\n",
       "      <td>1</td>\n",
       "      <td>17</td>\n",
       "      <td>71.800000</td>\n",
       "    </tr>\n",
       "    <tr>\n",
       "      <th>4</th>\n",
       "      <td>16-12-2006 17:28</td>\n",
       "      <td>3.666</td>\n",
       "      <td>0.528</td>\n",
       "      <td>235.68</td>\n",
       "      <td>15.8</td>\n",
       "      <td>0</td>\n",
       "      <td>1</td>\n",
       "      <td>17</td>\n",
       "      <td>43.100000</td>\n",
       "    </tr>\n",
       "  </tbody>\n",
       "</table>\n",
       "</div>"
      ],
      "text/plain": [
       "           datetime  Global_active_power  Global_reactive_power  Voltage  Global_intensity  Sub_metering_1  Sub_metering_2  Sub_metering_3  Sub_metering_4\n",
       "0  16-12-2006 17:24                4.216                  0.418   234.84              18.4               0               1              17       52.266670\n",
       "1  16-12-2006 17:25                5.360                  0.436   233.63              23.0               0               1              16       72.333336\n",
       "2  16-12-2006 17:26                5.374                  0.498   233.29              23.0               0               2              17       70.566666\n",
       "3  16-12-2006 17:27                5.388                  0.502   233.74              23.0               0               1              17       71.800000\n",
       "4  16-12-2006 17:28                3.666                  0.528   235.68              15.8               0               1              17       43.100000"
      ]
     },
     "execution_count": 6,
     "metadata": {},
     "output_type": "execute_result"
    }
   ],
   "source": [
    "df.head()"
   ]
  },
  {
   "cell_type": "code",
   "execution_count": null,
   "metadata": {},
   "outputs": [],
   "source": []
  },
  {
   "cell_type": "code",
   "execution_count": 7,
   "metadata": {},
   "outputs": [
    {
     "data": {
      "text/html": [
       "<div>\n",
       "<style scoped>\n",
       "    .dataframe tbody tr th:only-of-type {\n",
       "        vertical-align: middle;\n",
       "    }\n",
       "\n",
       "    .dataframe tbody tr th {\n",
       "        vertical-align: top;\n",
       "    }\n",
       "\n",
       "    .dataframe thead th {\n",
       "        text-align: right;\n",
       "    }\n",
       "</style>\n",
       "<table border=\"1\" class=\"dataframe\">\n",
       "  <thead>\n",
       "    <tr style=\"text-align: right;\">\n",
       "      <th></th>\n",
       "      <th>datetime</th>\n",
       "      <th>Global_active_power</th>\n",
       "      <th>Global_reactive_power</th>\n",
       "      <th>Voltage</th>\n",
       "      <th>Global_intensity</th>\n",
       "      <th>Sub_metering_1</th>\n",
       "      <th>Sub_metering_2</th>\n",
       "      <th>Sub_metering_3</th>\n",
       "      <th>Sub_metering_4</th>\n",
       "    </tr>\n",
       "  </thead>\n",
       "  <tbody>\n",
       "    <tr>\n",
       "      <th>1048570</th>\n",
       "      <td>13-12-2008 21:34</td>\n",
       "      <td>0.426</td>\n",
       "      <td>0.076</td>\n",
       "      <td>242.27</td>\n",
       "      <td>1.8</td>\n",
       "      <td>0</td>\n",
       "      <td>0</td>\n",
       "      <td>0</td>\n",
       "      <td>7.100000</td>\n",
       "    </tr>\n",
       "    <tr>\n",
       "      <th>1048571</th>\n",
       "      <td>13-12-2008 21:35</td>\n",
       "      <td>0.424</td>\n",
       "      <td>0.076</td>\n",
       "      <td>242.10</td>\n",
       "      <td>1.8</td>\n",
       "      <td>0</td>\n",
       "      <td>0</td>\n",
       "      <td>0</td>\n",
       "      <td>7.066667</td>\n",
       "    </tr>\n",
       "    <tr>\n",
       "      <th>1048572</th>\n",
       "      <td>13-12-2008 21:36</td>\n",
       "      <td>0.422</td>\n",
       "      <td>0.076</td>\n",
       "      <td>241.73</td>\n",
       "      <td>1.8</td>\n",
       "      <td>0</td>\n",
       "      <td>0</td>\n",
       "      <td>0</td>\n",
       "      <td>7.033333</td>\n",
       "    </tr>\n",
       "    <tr>\n",
       "      <th>1048573</th>\n",
       "      <td>13-12-2008 21:37</td>\n",
       "      <td>0.422</td>\n",
       "      <td>0.078</td>\n",
       "      <td>242.56</td>\n",
       "      <td>1.8</td>\n",
       "      <td>0</td>\n",
       "      <td>0</td>\n",
       "      <td>0</td>\n",
       "      <td>7.033333</td>\n",
       "    </tr>\n",
       "    <tr>\n",
       "      <th>1048574</th>\n",
       "      <td>13-12-2008 21:38</td>\n",
       "      <td>0.422</td>\n",
       "      <td>0.078</td>\n",
       "      <td>242.61</td>\n",
       "      <td>1.8</td>\n",
       "      <td>0</td>\n",
       "      <td>0</td>\n",
       "      <td>0</td>\n",
       "      <td>7.033333</td>\n",
       "    </tr>\n",
       "  </tbody>\n",
       "</table>\n",
       "</div>"
      ],
      "text/plain": [
       "                 datetime  Global_active_power  Global_reactive_power  Voltage  Global_intensity  Sub_metering_1  Sub_metering_2  Sub_metering_3  Sub_metering_4\n",
       "1048570  13-12-2008 21:34                0.426                  0.076   242.27               1.8               0               0               0        7.100000\n",
       "1048571  13-12-2008 21:35                0.424                  0.076   242.10               1.8               0               0               0        7.066667\n",
       "1048572  13-12-2008 21:36                0.422                  0.076   241.73               1.8               0               0               0        7.033333\n",
       "1048573  13-12-2008 21:37                0.422                  0.078   242.56               1.8               0               0               0        7.033333\n",
       "1048574  13-12-2008 21:38                0.422                  0.078   242.61               1.8               0               0               0        7.033333"
      ]
     },
     "execution_count": 7,
     "metadata": {},
     "output_type": "execute_result"
    }
   ],
   "source": [
    "df.tail()"
   ]
  },
  {
   "cell_type": "code",
   "execution_count": null,
   "metadata": {},
   "outputs": [],
   "source": []
  },
  {
   "cell_type": "code",
   "execution_count": 8,
   "metadata": {},
   "outputs": [
    {
     "data": {
      "text/plain": [
       "Index(['datetime', 'Global_active_power', 'Global_reactive_power', 'Voltage', 'Global_intensity', 'Sub_metering_1', 'Sub_metering_2', 'Sub_metering_3', 'Sub_metering_4'], dtype='object')"
      ]
     },
     "execution_count": 8,
     "metadata": {},
     "output_type": "execute_result"
    }
   ],
   "source": [
    "df.columns"
   ]
  },
  {
   "cell_type": "code",
   "execution_count": 9,
   "metadata": {},
   "outputs": [
    {
     "name": "stdout",
     "output_type": "stream",
     "text": [
      "<class 'pandas.core.frame.DataFrame'>\n",
      "RangeIndex: 1048575 entries, 0 to 1048574\n",
      "Data columns (total 9 columns):\n",
      " #   Column                 Non-Null Count    Dtype  \n",
      "---  ------                 --------------    -----  \n",
      " 0   datetime               1048575 non-null  object \n",
      " 1   Global_active_power    1048575 non-null  float64\n",
      " 2   Global_reactive_power  1048575 non-null  float64\n",
      " 3   Voltage                1048575 non-null  float64\n",
      " 4   Global_intensity       1048575 non-null  float64\n",
      " 5   Sub_metering_1         1048575 non-null  int64  \n",
      " 6   Sub_metering_2         1048575 non-null  int64  \n",
      " 7   Sub_metering_3         1048575 non-null  int64  \n",
      " 8   Sub_metering_4         1048575 non-null  float64\n",
      "dtypes: float64(5), int64(3), object(1)\n",
      "memory usage: 72.0+ MB\n"
     ]
    }
   ],
   "source": [
    "df.info()"
   ]
  },
  {
   "cell_type": "code",
   "execution_count": 10,
   "metadata": {},
   "outputs": [
    {
     "name": "stdout",
     "output_type": "stream",
     "text": [
      "The Dataset has 1048575 rows and 9 columns\n"
     ]
    }
   ],
   "source": [
    "print(f\"The Dataset has {df.shape[0]} rows and {df.shape[1]} columns\")"
   ]
  },
  {
   "cell_type": "code",
   "execution_count": 11,
   "metadata": {},
   "outputs": [
    {
     "data": {
      "text/plain": [
       "datetime                 0\n",
       "Global_active_power      0\n",
       "Global_reactive_power    0\n",
       "Voltage                  0\n",
       "Global_intensity         0\n",
       "Sub_metering_1           0\n",
       "Sub_metering_2           0\n",
       "Sub_metering_3           0\n",
       "Sub_metering_4           0\n",
       "dtype: int64"
      ]
     },
     "execution_count": 11,
     "metadata": {},
     "output_type": "execute_result"
    }
   ],
   "source": [
    "df.isnull().sum()"
   ]
  },
  {
   "cell_type": "code",
   "execution_count": 12,
   "metadata": {},
   "outputs": [],
   "source": [
    "percent_missing = df.isnull().sum() * 100 / len(df)\n",
    "missing_value_df = pd.DataFrame({'percent_missing': percent_missing})"
   ]
  },
  {
   "cell_type": "code",
   "execution_count": 13,
   "metadata": {},
   "outputs": [
    {
     "data": {
      "text/html": [
       "<div>\n",
       "<style scoped>\n",
       "    .dataframe tbody tr th:only-of-type {\n",
       "        vertical-align: middle;\n",
       "    }\n",
       "\n",
       "    .dataframe tbody tr th {\n",
       "        vertical-align: top;\n",
       "    }\n",
       "\n",
       "    .dataframe thead th {\n",
       "        text-align: right;\n",
       "    }\n",
       "</style>\n",
       "<table border=\"1\" class=\"dataframe\">\n",
       "  <thead>\n",
       "    <tr style=\"text-align: right;\">\n",
       "      <th></th>\n",
       "      <th>percent_missing</th>\n",
       "    </tr>\n",
       "  </thead>\n",
       "  <tbody>\n",
       "    <tr>\n",
       "      <th>datetime</th>\n",
       "      <td>0.0</td>\n",
       "    </tr>\n",
       "    <tr>\n",
       "      <th>Global_active_power</th>\n",
       "      <td>0.0</td>\n",
       "    </tr>\n",
       "    <tr>\n",
       "      <th>Global_reactive_power</th>\n",
       "      <td>0.0</td>\n",
       "    </tr>\n",
       "    <tr>\n",
       "      <th>Voltage</th>\n",
       "      <td>0.0</td>\n",
       "    </tr>\n",
       "    <tr>\n",
       "      <th>Global_intensity</th>\n",
       "      <td>0.0</td>\n",
       "    </tr>\n",
       "    <tr>\n",
       "      <th>Sub_metering_1</th>\n",
       "      <td>0.0</td>\n",
       "    </tr>\n",
       "    <tr>\n",
       "      <th>Sub_metering_2</th>\n",
       "      <td>0.0</td>\n",
       "    </tr>\n",
       "    <tr>\n",
       "      <th>Sub_metering_3</th>\n",
       "      <td>0.0</td>\n",
       "    </tr>\n",
       "    <tr>\n",
       "      <th>Sub_metering_4</th>\n",
       "      <td>0.0</td>\n",
       "    </tr>\n",
       "  </tbody>\n",
       "</table>\n",
       "</div>"
      ],
      "text/plain": [
       "                       percent_missing\n",
       "datetime                           0.0\n",
       "Global_active_power                0.0\n",
       "Global_reactive_power              0.0\n",
       "Voltage                            0.0\n",
       "Global_intensity                   0.0\n",
       "Sub_metering_1                     0.0\n",
       "Sub_metering_2                     0.0\n",
       "Sub_metering_3                     0.0\n",
       "Sub_metering_4                     0.0"
      ]
     },
     "execution_count": 13,
     "metadata": {},
     "output_type": "execute_result"
    }
   ],
   "source": [
    "missing_value_df"
   ]
  },
  {
   "cell_type": "code",
   "execution_count": 14,
   "metadata": {},
   "outputs": [
    {
     "data": {
      "text/plain": [
       "(10000, 8)"
      ]
     },
     "execution_count": 14,
     "metadata": {},
     "output_type": "execute_result"
    }
   ],
   "source": [
    "df1.shape"
   ]
  },
  {
   "cell_type": "code",
   "execution_count": 15,
   "metadata": {},
   "outputs": [
    {
     "data": {
      "image/png": "[encoded data removed]",
      "text/plain": [
       "<Figure size 432x288 with 1 Axes>"
      ]
     },
     "metadata": {
      "needs_background": "light"
     },
     "output_type": "display_data"
    }
   ],
   "source": [
    "##Plotting based on voltage\n",
    "df1[\"Voltage\"].plot()\n",
    "plt.title('Voltage Analysis')\n",
    "plt.xlabel('Number of data ')\n",
    "plt.ylabel('Voltage')\n",
    "plt.show()"
   ]
  },
  {
   "cell_type": "code",
   "execution_count": 16,
   "metadata": {},
   "outputs": [
    {
     "data": {
      "text/html": [
       "<div>\n",
       "<style scoped>\n",
       "    .dataframe tbody tr th:only-of-type {\n",
       "        vertical-align: middle;\n",
       "    }\n",
       "\n",
       "    .dataframe tbody tr th {\n",
       "        vertical-align: top;\n",
       "    }\n",
       "\n",
       "    .dataframe thead th {\n",
       "        text-align: right;\n",
       "    }\n",
       "</style>\n",
       "<table border=\"1\" class=\"dataframe\">\n",
       "  <thead>\n",
       "    <tr style=\"text-align: right;\">\n",
       "      <th></th>\n",
       "      <th>Global_active_power</th>\n",
       "      <th>Global_reactive_power</th>\n",
       "      <th>Voltage</th>\n",
       "      <th>Global_intensity</th>\n",
       "      <th>Sub_metering_1</th>\n",
       "      <th>Sub_metering_2</th>\n",
       "      <th>Sub_metering_3</th>\n",
       "      <th>Sub_metering_4</th>\n",
       "    </tr>\n",
       "  </thead>\n",
       "  <tbody>\n",
       "    <tr>\n",
       "      <th>Global_active_power</th>\n",
       "      <td>1.000000</td>\n",
       "      <td>0.220600</td>\n",
       "      <td>-0.715500</td>\n",
       "      <td>0.998643</td>\n",
       "      <td>0.310581</td>\n",
       "      <td>0.305997</td>\n",
       "      <td>0.550256</td>\n",
       "      <td>0.803786</td>\n",
       "    </tr>\n",
       "    <tr>\n",
       "      <th>Global_reactive_power</th>\n",
       "      <td>0.220600</td>\n",
       "      <td>1.000000</td>\n",
       "      <td>-0.151065</td>\n",
       "      <td>0.230694</td>\n",
       "      <td>0.046928</td>\n",
       "      <td>0.083446</td>\n",
       "      <td>0.051028</td>\n",
       "      <td>0.213732</td>\n",
       "    </tr>\n",
       "    <tr>\n",
       "      <th>Voltage</th>\n",
       "      <td>-0.715500</td>\n",
       "      <td>-0.151065</td>\n",
       "      <td>1.000000</td>\n",
       "      <td>-0.720715</td>\n",
       "      <td>-0.223900</td>\n",
       "      <td>-0.162351</td>\n",
       "      <td>-0.505091</td>\n",
       "      <td>-0.542463</td>\n",
       "    </tr>\n",
       "    <tr>\n",
       "      <th>Global_intensity</th>\n",
       "      <td>0.998643</td>\n",
       "      <td>0.230694</td>\n",
       "      <td>-0.720715</td>\n",
       "      <td>1.000000</td>\n",
       "      <td>0.314358</td>\n",
       "      <td>0.310379</td>\n",
       "      <td>0.538322</td>\n",
       "      <td>0.804953</td>\n",
       "    </tr>\n",
       "    <tr>\n",
       "      <th>Sub_metering_1</th>\n",
       "      <td>0.310581</td>\n",
       "      <td>0.046928</td>\n",
       "      <td>-0.223900</td>\n",
       "      <td>0.314358</td>\n",
       "      <td>1.000000</td>\n",
       "      <td>0.092146</td>\n",
       "      <td>0.113110</td>\n",
       "      <td>-0.014325</td>\n",
       "    </tr>\n",
       "    <tr>\n",
       "      <th>Sub_metering_2</th>\n",
       "      <td>0.305997</td>\n",
       "      <td>0.083446</td>\n",
       "      <td>-0.162351</td>\n",
       "      <td>0.310379</td>\n",
       "      <td>0.092146</td>\n",
       "      <td>1.000000</td>\n",
       "      <td>-0.045422</td>\n",
       "      <td>-0.057433</td>\n",
       "    </tr>\n",
       "    <tr>\n",
       "      <th>Sub_metering_3</th>\n",
       "      <td>0.550256</td>\n",
       "      <td>0.051028</td>\n",
       "      <td>-0.505091</td>\n",
       "      <td>0.538322</td>\n",
       "      <td>0.113110</td>\n",
       "      <td>-0.045422</td>\n",
       "      <td>1.000000</td>\n",
       "      <td>0.195847</td>\n",
       "    </tr>\n",
       "    <tr>\n",
       "      <th>Sub_metering_4</th>\n",
       "      <td>0.803786</td>\n",
       "      <td>0.213732</td>\n",
       "      <td>-0.542463</td>\n",
       "      <td>0.804953</td>\n",
       "      <td>-0.014325</td>\n",
       "      <td>-0.057433</td>\n",
       "      <td>0.195847</td>\n",
       "      <td>1.000000</td>\n",
       "    </tr>\n",
       "  </tbody>\n",
       "</table>\n",
       "</div>"
      ],
      "text/plain": [
       "                       Global_active_power  Global_reactive_power   Voltage  Global_intensity  Sub_metering_1  Sub_metering_2  Sub_metering_3  Sub_metering_4\n",
       "Global_active_power               1.000000               0.220600 -0.715500          0.998643        0.310581        0.305997        0.550256        0.803786\n",
       "Global_reactive_power             0.220600               1.000000 -0.151065          0.230694        0.046928        0.083446        0.051028        0.213732\n",
       "Voltage                          -0.715500              -0.151065  1.000000         -0.720715       -0.223900       -0.162351       -0.505091       -0.542463\n",
       "Global_intensity                  0.998643               0.230694 -0.720715          1.000000        0.314358        0.310379        0.538322        0.804953\n",
       "Sub_metering_1                    0.310581               0.046928 -0.223900          0.314358        1.000000        0.092146        0.113110       -0.014325\n",
       "Sub_metering_2                    0.305997               0.083446 -0.162351          0.310379        0.092146        1.000000       -0.045422       -0.057433\n",
       "Sub_metering_3                    0.550256               0.051028 -0.505091          0.538322        0.113110       -0.045422        1.000000        0.195847\n",
       "Sub_metering_4                    0.803786               0.213732 -0.542463          0.804953       -0.014325       -0.057433        0.195847        1.000000"
      ]
     },
     "execution_count": 16,
     "metadata": {},
     "output_type": "execute_result"
    }
   ],
   "source": [
    "df1.corr()"
   ]
  },
  {
   "cell_type": "code",
   "execution_count": 17,
   "metadata": {},
   "outputs": [
    {
     "data": {
      "image/png": "[encoded data removed]",
      "text/plain": [
       "<Figure size 432x288 with 2 Axes>"
      ]
     },
     "metadata": {
      "needs_background": "light"
     },
     "output_type": "display_data"
    }
   ],
   "source": [
    "pearson = df1.corr(method='pearson')\n",
    "mask = np.zeros_like(pearson)\n",
    "mask[np.triu_indices_from(mask)] = True\n",
    "sns.heatmap(pearson, vmax=1, vmin=0, square=True, cbar=True, annot=True, cmap=\"YlGnBu\", mask=mask);"
   ]
  },
  {
   "cell_type": "code",
   "execution_count": null,
   "metadata": {},
   "outputs": [],
   "source": []
  },
  {
   "cell_type": "code",
   "execution_count": null,
   "metadata": {},
   "outputs": [],
   "source": []
  },
  {
   "cell_type": "code",
   "execution_count": 18,
   "metadata": {},
   "outputs": [
    {
     "data": {
      "image/png": "[encoded data removed]",
      "text/plain": [
       "<Figure size 432x288 with 1 Axes>"
      ]
     },
     "metadata": {
      "needs_background": "light"
     },
     "output_type": "display_data"
    }
   ],
   "source": [
    "#Plotting based on Global intensity\n",
    "df1[\"Global_intensity\"].hist(bins=15)\n",
    "plt.title('Energy intensity')\n",
    "plt.xlabel('Global intensity ')\n",
    "plt.ylabel('Number of data')\n",
    "plt.show()\n"
   ]
  },
  {
   "cell_type": "code",
   "execution_count": 19,
   "metadata": {},
   "outputs": [
    {
     "data": {
      "image/png": "[encoded data removed]",
      "text/plain": [
       "<Figure size 432x288 with 1 Axes>"
      ]
     },
     "metadata": {
      "needs_background": "light"
     },
     "output_type": "display_data"
    },
    {
     "name": "stdout",
     "output_type": "stream",
     "text": [
      "Checking the Missing Values\n",
      "Global_active_power      0\n",
      "Global_reactive_power    0\n",
      "Voltage                  0\n",
      "Global_intensity         0\n",
      "Sub_metering_1           0\n",
      "Sub_metering_2           0\n",
      "Sub_metering_3           0\n",
      "Sub_metering_4           0\n",
      "dtype: int64\n",
      "\n",
      "\n",
      "<class 'pandas.core.frame.DataFrame'>\n",
      "RangeIndex: 10000 entries, 0 to 9999\n",
      "Data columns (total 8 columns):\n",
      " #   Column                 Non-Null Count  Dtype  \n",
      "---  ------                 --------------  -----  \n",
      " 0   Global_active_power    10000 non-null  float64\n",
      " 1   Global_reactive_power  10000 non-null  float64\n",
      " 2   Voltage                10000 non-null  float64\n",
      " 3   Global_intensity       10000 non-null  float64\n",
      " 4   Sub_metering_1         10000 non-null  int64  \n",
      " 5   Sub_metering_2         10000 non-null  int64  \n",
      " 6   Sub_metering_3         10000 non-null  int64  \n",
      " 7   Sub_metering_4         10000 non-null  float64\n",
      "dtypes: float64(5), int64(3)\n",
      "memory usage: 625.1 KB\n",
      "None\n"
     ]
    }
   ],
   "source": [
    "#plotting based on global Active Power\n",
    "df1[\"Global_active_power\"].hist(bins=15)\n",
    "plt.title('Active power')\n",
    "plt.xlabel('Global active power')\n",
    "plt.ylabel('Number of data')\n",
    "plt.show()\n",
    "\n",
    "\"\"\"Preprocessing\"\"\"\n",
    "\n",
    "##Checking the missing values\n",
    "print(\"Checking the Missing Values\")\n",
    "print(df1.isna().sum())\n",
    "print(\"\\n\")\n",
    "\n",
    "##checking Dataframe type\n",
    "print(df1.info())\n"
   ]
  },
  {
   "cell_type": "code",
   "execution_count": 20,
   "metadata": {},
   "outputs": [],
   "source": [
    "##splitting the data into label and target\n",
    "y=df1.Global_active_power\n",
    "x=df1.drop('Global_active_power',axis=1)\n",
    "\n",
    "##splitting datasets into train and test data\n",
    "from sklearn.model_selection import train_test_split\n",
    "x_train,x_test,y_train,y_test = train_test_split(x,y,test_size = 0.2,random_state = 42)\n",
    "\n",
    "\n"
   ]
  },
  {
   "cell_type": "code",
   "execution_count": 21,
   "metadata": {},
   "outputs": [
    {
     "name": "stdout",
     "output_type": "stream",
     "text": [
      "---Support Vector Regression---\n",
      "\n",
      "Mean Absolute Error\n",
      "0.0481668490052033\n",
      "\n",
      "Mean Squared Error\n",
      "0.0029347083940707754\n",
      "\n",
      "Root Mean Squared Error\n",
      "0.054172948914294625\n"
     ]
    }
   ],
   "source": [
    "\"\"\"Regression\"\"\"\n",
    "    \n",
    "\n",
    "   \n",
    "\"\"\" Support vector Regression\"\"\"\n",
    "\n",
    "regressor = SVR(kernel = 'rbf')\n",
    "regressor.fit(x_train, y_train)\n",
    "y_pred = regressor.predict(x_test)\n",
    "\n",
    "print(\"---Support Vector Regression---\")\n",
    "print()\n",
    "print(\"\"\"Mean Absolute Error\"\"\")\n",
    "mae = mean_absolute_error(y_pred,y_test)\n",
    "print(mae)\n",
    "\n",
    "\n",
    "print()\n",
    "print(\"\" \"Mean Squared Error\"\"\")\n",
    "mse = mean_squared_error(y_pred,y_test)\n",
    "print(mse)\n",
    "\n",
    "print()\n",
    "print(\"\" \"Root Mean Squared Error\"\"\")\n",
    "mse = mean_squared_error(y_pred,y_test)\n",
    "print(sqrt(mse))\n",
    "\n"
   ]
  },
  {
   "cell_type": "code",
   "execution_count": 22,
   "metadata": {},
   "outputs": [
    {
     "name": "stdout",
     "output_type": "stream",
     "text": [
      "\n",
      "---Linear Regression---\n",
      "\n",
      "Mean Absolute Error\n",
      "3.385399654037835e-08\n",
      "\n",
      "Mean Squared Error\n",
      "2.9575539778232797e-15\n",
      "\n",
      "Root Mean Squared Error\n",
      "5.438339799813248e-08\n"
     ]
    }
   ],
   "source": [
    "\"\"\" Linear Regression\"\"\"\n",
    "  \n",
    "regressor_linear =LinearRegression()\n",
    "regressor_linear.fit(x_train, y_train)\n",
    "y_pred_linear = regressor_linear.predict(x_test)\n",
    "\n",
    "\n",
    "print()\n",
    "print(\"---Linear Regression---\")\n",
    "print()\n",
    "print(\"\"\"Mean Absolute Error\"\"\")\n",
    "mae_linear = mean_absolute_error(y_pred_linear,y_test)\n",
    "print(mae_linear)\n",
    "\n",
    "print()\n",
    "print(\"\" \"Mean Squared Error\"\"\")\n",
    "print(mean_squared_error(y_pred_linear,y_test))\n",
    "\n",
    "print()\n",
    "print(\"\" \"Root Mean Squared Error\"\"\")\n",
    "print(sqrt(mean_squared_error(y_pred_linear,y_test)))\n"
   ]
  },
  {
   "cell_type": "code",
   "execution_count": 23,
   "metadata": {},
   "outputs": [
    {
     "name": "stderr",
     "output_type": "stream",
     "text": [
      "C:\\Users\\dhana\\Anaconda3\\lib\\site-packages\\dask\\dataframe\\utils.py:14: FutureWarning: pandas.util.testing is deprecated. Use the functions in the public API at pandas.testing instead.\n",
      "  import pandas.util.testing as tm\n"
     ]
    },
    {
     "name": "stdout",
     "output_type": "stream",
     "text": [
      "Ensembling the Model...\n",
      "Mean Absolute Error\n",
      "0.0033573044425249145\n",
      "\n",
      "Mean Squared Error\n",
      "0.00011965083011001565\n",
      "\n",
      "Root Mean Squared Error\n",
      "0.010938502187686194\n"
     ]
    },
    {
     "data": {
      "image/png": "[encoded data removed]",
      "text/plain": [
       "<Figure size 432x288 with 1 Axes>"
      ]
     },
     "metadata": {
      "needs_background": "light"
     },
     "output_type": "display_data"
    }
   ],
   "source": [
    "from mlxtend.regressor import StackingCVRegressor\n",
    "from xgboost import XGBRegressor\n",
    "xgb = XGBRegressor()\n",
    "print(\"Ensembling the Model...\")\n",
    "stack = StackingCVRegressor(regressors=(regressor, regressor_linear),\n",
    "                            meta_regressor=xgb, cv=12,\n",
    "                            use_features_in_secondary=True,\n",
    "                            store_train_meta_features=True,\n",
    "                            shuffle=False,\n",
    "                            random_state=42)\n",
    "\n",
    "stack.fit(x_train, y_train)\n",
    "\n",
    "pred_stack = stack.predict(x_test)\n",
    "score = mean_squared_error(y_test, pred_stack)\n",
    "print(\"\"\"Mean Absolute Error\"\"\")\n",
    "mae_stacked = mean_absolute_error(pred_stack,y_test)\n",
    "print(mae_stacked)\n",
    "print()\n",
    "print(\"\" \"Mean Squared Error\"\"\")\n",
    "print(score)\n",
    "print()\n",
    "print(\"\" \"Root Mean Squared Error\"\"\")\n",
    "print(sqrt(mean_squared_error(y_test, pred_stack)))\n",
    "\n",
    "\n",
    "df_prediction = pd.DataFrame({'Actual':y_test, 'Predicted':pred_stack})\n",
    "df_prediction.plot('Actual', 'Predicted', kind='scatter')\n",
    "\n",
    "\n",
    "plt.scatter(y_test,pred_stack)\n",
    "plt.title('Actual vs Predicted')\n",
    "plt.xlabel('Actual')\n",
    "plt.ylabel('Predicted')\n",
    "plt.show()"
   ]
  },
  {
   "cell_type": "code",
   "execution_count": null,
   "metadata": {},
   "outputs": [],
   "source": []
  },
  {
   "cell_type": "code",
   "execution_count": 24,
   "metadata": {},
   "outputs": [
    {
     "data": {
      "text/html": [
       "<div>\n",
       "<style scoped>\n",
       "    .dataframe tbody tr th:only-of-type {\n",
       "        vertical-align: middle;\n",
       "    }\n",
       "\n",
       "    .dataframe tbody tr th {\n",
       "        vertical-align: top;\n",
       "    }\n",
       "\n",
       "    .dataframe thead th {\n",
       "        text-align: right;\n",
       "    }\n",
       "</style>\n",
       "<table border=\"1\" class=\"dataframe\">\n",
       "  <thead>\n",
       "    <tr style=\"text-align: right;\">\n",
       "      <th></th>\n",
       "      <th>Actual</th>\n",
       "      <th>PRED</th>\n",
       "    </tr>\n",
       "  </thead>\n",
       "  <tbody>\n",
       "    <tr>\n",
       "      <th>6252</th>\n",
       "      <td>1.312</td>\n",
       "      <td>1.309213</td>\n",
       "    </tr>\n",
       "    <tr>\n",
       "      <th>4684</th>\n",
       "      <td>0.406</td>\n",
       "      <td>0.403808</td>\n",
       "    </tr>\n",
       "    <tr>\n",
       "      <th>1731</th>\n",
       "      <td>1.632</td>\n",
       "      <td>1.631212</td>\n",
       "    </tr>\n",
       "    <tr>\n",
       "      <th>4742</th>\n",
       "      <td>0.296</td>\n",
       "      <td>0.294573</td>\n",
       "    </tr>\n",
       "    <tr>\n",
       "      <th>4521</th>\n",
       "      <td>2.420</td>\n",
       "      <td>2.414721</td>\n",
       "    </tr>\n",
       "    <tr>\n",
       "      <th>...</th>\n",
       "      <td>...</td>\n",
       "      <td>...</td>\n",
       "    </tr>\n",
       "    <tr>\n",
       "      <th>6412</th>\n",
       "      <td>0.206</td>\n",
       "      <td>0.206068</td>\n",
       "    </tr>\n",
       "    <tr>\n",
       "      <th>8285</th>\n",
       "      <td>1.238</td>\n",
       "      <td>1.240666</td>\n",
       "    </tr>\n",
       "    <tr>\n",
       "      <th>7853</th>\n",
       "      <td>0.302</td>\n",
       "      <td>0.301795</td>\n",
       "    </tr>\n",
       "    <tr>\n",
       "      <th>1095</th>\n",
       "      <td>1.922</td>\n",
       "      <td>1.921913</td>\n",
       "    </tr>\n",
       "    <tr>\n",
       "      <th>6929</th>\n",
       "      <td>2.624</td>\n",
       "      <td>2.624442</td>\n",
       "    </tr>\n",
       "  </tbody>\n",
       "</table>\n",
       "<p>2000 rows × 2 columns</p>\n",
       "</div>"
      ],
      "text/plain": [
       "      Actual      PRED\n",
       "6252   1.312  1.309213\n",
       "4684   0.406  0.403808\n",
       "1731   1.632  1.631212\n",
       "4742   0.296  0.294573\n",
       "4521   2.420  2.414721\n",
       "...      ...       ...\n",
       "6412   0.206  0.206068\n",
       "8285   1.238  1.240666\n",
       "7853   0.302  0.301795\n",
       "1095   1.922  1.921913\n",
       "6929   2.624  2.624442\n",
       "\n",
       "[2000 rows x 2 columns]"
      ]
     },
     "execution_count": 24,
     "metadata": {},
     "output_type": "execute_result"
    }
   ],
   "source": [
    "df = pd.DataFrame({'Actual': y_test, 'PRED':pred_stack})\n",
    "df."
   ]
  },
  {
   "cell_type": "code",
   "execution_count": 25,
   "metadata": {},
   "outputs": [],
   "source": [
    "import pandas as pd\n",
    "pd.set_option('display.max_rows', 500)\n",
    "pd.set_option('display.max_columns', 500)\n",
    "pd.set_option('display.width', 1000)"
   ]
  },
  {
   "cell_type": "code",
   "execution_count": null,
   "metadata": {},
   "outputs": [],
   "source": []
  },
  {
   "cell_type": "code",
   "execution_count": 28,
   "metadata": {},
   "outputs": [
    {
     "data": {
      "text/html": [
       "<div>\n",
       "<style scoped>\n",
       "    .dataframe tbody tr th:only-of-type {\n",
       "        vertical-align: middle;\n",
       "    }\n",
       "\n",
       "    .dataframe tbody tr th {\n",
       "        vertical-align: top;\n",
       "    }\n",
       "\n",
       "    .dataframe thead th {\n",
       "        text-align: right;\n",
       "    }\n",
       "</style>\n",
       "<table border=\"1\" class=\"dataframe\">\n",
       "  <thead>\n",
       "    <tr style=\"text-align: right;\">\n",
       "      <th></th>\n",
       "      <th>Actual</th>\n",
       "      <th>PRED</th>\n",
       "    </tr>\n",
       "  </thead>\n",
       "  <tbody>\n",
       "    <tr>\n",
       "      <th>6252</th>\n",
       "      <td>1.312</td>\n",
       "      <td>1.309213</td>\n",
       "    </tr>\n",
       "    <tr>\n",
       "      <th>4684</th>\n",
       "      <td>0.406</td>\n",
       "      <td>0.403808</td>\n",
       "    </tr>\n",
       "    <tr>\n",
       "      <th>1731</th>\n",
       "      <td>1.632</td>\n",
       "      <td>1.631212</td>\n",
       "    </tr>\n",
       "    <tr>\n",
       "      <th>4742</th>\n",
       "      <td>0.296</td>\n",
       "      <td>0.294573</td>\n",
       "    </tr>\n",
       "    <tr>\n",
       "      <th>4521</th>\n",
       "      <td>2.420</td>\n",
       "      <td>2.414721</td>\n",
       "    </tr>\n",
       "    <tr>\n",
       "      <th>...</th>\n",
       "      <td>...</td>\n",
       "      <td>...</td>\n",
       "    </tr>\n",
       "    <tr>\n",
       "      <th>6412</th>\n",
       "      <td>0.206</td>\n",
       "      <td>0.206068</td>\n",
       "    </tr>\n",
       "    <tr>\n",
       "      <th>8285</th>\n",
       "      <td>1.238</td>\n",
       "      <td>1.240666</td>\n",
       "    </tr>\n",
       "    <tr>\n",
       "      <th>7853</th>\n",
       "      <td>0.302</td>\n",
       "      <td>0.301795</td>\n",
       "    </tr>\n",
       "    <tr>\n",
       "      <th>1095</th>\n",
       "      <td>1.922</td>\n",
       "      <td>1.921913</td>\n",
       "    </tr>\n",
       "    <tr>\n",
       "      <th>6929</th>\n",
       "      <td>2.624</td>\n",
       "      <td>2.624442</td>\n",
       "    </tr>\n",
       "  </tbody>\n",
       "</table>\n",
       "<p>2000 rows × 2 columns</p>\n",
       "</div>"
      ],
      "text/plain": [
       "      Actual      PRED\n",
       "6252   1.312  1.309213\n",
       "4684   0.406  0.403808\n",
       "1731   1.632  1.631212\n",
       "4742   0.296  0.294573\n",
       "4521   2.420  2.414721\n",
       "...      ...       ...\n",
       "6412   0.206  0.206068\n",
       "8285   1.238  1.240666\n",
       "7853   0.302  0.301795\n",
       "1095   1.922  1.921913\n",
       "6929   2.624  2.624442\n",
       "\n",
       "[2000 rows x 2 columns]"
      ]
     },
     "execution_count": 28,
     "metadata": {},
     "output_type": "execute_result"
    }
   ],
   "source": [
    "df\n"
   ]
  },
  {
   "cell_type": "code",
   "execution_count": null,
   "metadata": {},
   "outputs": [],
   "source": []
  }
 ],
 "metadata": {
  "kernelspec": {
   "display_name": "Python 3",
   "language": "python",
   "name": "python3"
  },
  "language_info": {
   "codemirror_mode": {
    "name": "ipython",
    "version": 3
   },
   "file_extension": ".py",
   "mimetype": "text/x-python",
   "name": "python",
   "nbconvert_exporter": "python",
   "pygments_lexer": "ipython3",
   "version": "3.7.4"
  }
 },
 "nbformat": 4,
 "nbformat_minor": 2
}
